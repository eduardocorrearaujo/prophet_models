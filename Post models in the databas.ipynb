{
 "cells": [
  {
   "cell_type": "code",
   "execution_count": 1,
   "id": "11602480",
   "metadata": {},
   "outputs": [],
   "source": [
    "import requests"
   ]
  },
  {
   "cell_type": "code",
   "execution_count": 2,
   "id": "ef7cb07a",
   "metadata": {},
   "outputs": [],
   "source": [
    "def post_model(\n",
    "    name: str, \n",
    "    description: str, \n",
    "    repository: str, \n",
    "    implementation_language: str, \n",
    "    mtype: str,\n",
    "    disease:str,\n",
    "    adm_level,\n",
    "    time_resolution,\n",
    "):\n",
    "    url = \"https://api.mosqlimate.org/api/registry/models/\"\n",
    "    headers = {\"X-UID-Key\": \"eduardocorrearaujo:b35a9f09-fbd2-4764-9503-d0650e50d7e1\"}\n",
    "    model = {\n",
    "        \"name\": name,\n",
    "        \"description\": description,\n",
    "        \"repository\": repository,\n",
    "        \"implementation_language\": implementation_language,\n",
    "        \"type\": mtype,\n",
    "        \"ADM_level\": adm_level,\n",
    "        \"time_resolution\": time_resolution,\n",
    "        \"disease\":disease \n",
    "    }\n",
    "    return requests.post(url, json=model, headers=headers)\n"
   ]
  },
  {
   "cell_type": "markdown",
   "id": "e91f90cd",
   "metadata": {},
   "source": [
    "Cadastrando o prophet model:"
   ]
  },
  {
   "cell_type": "code",
   "execution_count": 3,
   "id": "4e7b3df9",
   "metadata": {},
   "outputs": [],
   "source": [
    "name = 'Univariate neuaral prophet model'\n",
    "\n",
    "description = '''In this repo, it's implemented a neural prophet model that based only on the times series of cases \n",
    "compute the cases in the next four weeks.\n",
    "\n",
    "The confidence interval of the predictions are computed using the conformal prediction.'''\n",
    "\n",
    "repository = 'https://github.com/eduardocorrearaujo/prophet_models.git'\n",
    "\n",
    "implementation_language = 'Python' \n",
    "\n",
    "disease = 'dengue'\n",
    "\n",
    "mtype = 'forescast'"
   ]
  },
  {
   "cell_type": "code",
   "execution_count": 4,
   "id": "703bf751",
   "metadata": {},
   "outputs": [],
   "source": [
    "res = post_model(\n",
    "    name, \n",
    "    description, \n",
    "    repository, \n",
    "    implementation_language, \n",
    "    mtype,\n",
    "    disease,\n",
    "    adm_level = 2,\n",
    "    time_resolution = \"week\")"
   ]
  },
  {
   "cell_type": "code",
   "execution_count": 5,
   "id": "86c0fa1a",
   "metadata": {},
   "outputs": [
    {
     "data": {
      "text/plain": [
       "{'id': 7,\n",
       " 'name': 'Univariate neuaral prophet model',\n",
       " 'description': \"In this repo, it's implemented a neural prophet model that based only on the times series of cases \\ncompute the cases in the next four weeks.\\n\\nThe confidence interval of the predictions are computed using the conformal prediction.\",\n",
       " 'author': {'user': {'name': 'Eduardo Correa Araujo',\n",
       "   'username': 'eduardocorrearaujo'},\n",
       "  'institution': None},\n",
       " 'repository': 'https://github.com/eduardocorrearaujo/prophet_models.git',\n",
       " 'implementation_language': {'language': 'Python'},\n",
       " 'disease': 'dengue',\n",
       " 'type': 'forescast',\n",
       " 'ADM_level': 2,\n",
       " 'time_resolution': 'week'}"
      ]
     },
     "execution_count": 5,
     "metadata": {},
     "output_type": "execute_result"
    }
   ],
   "source": [
    "res.json()"
   ]
  }
 ],
 "metadata": {
  "kernelspec": {
   "display_name": "Python 3 (ipykernel)",
   "language": "python",
   "name": "python3"
  },
  "language_info": {
   "codemirror_mode": {
    "name": "ipython",
    "version": 3
   },
   "file_extension": ".py",
   "mimetype": "text/x-python",
   "name": "python",
   "nbconvert_exporter": "python",
   "pygments_lexer": "ipython3",
   "version": "3.10.13"
  }
 },
 "nbformat": 4,
 "nbformat_minor": 5
}
