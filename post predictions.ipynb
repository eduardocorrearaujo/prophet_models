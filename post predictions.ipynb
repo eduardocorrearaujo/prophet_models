{
 "cells": [
  {
   "cell_type": "code",
   "execution_count": 1,
   "id": "d47838dc",
   "metadata": {},
   "outputs": [],
   "source": [
    "import pickle\n",
    "import requests\n",
    "import pandas as pd"
   ]
  },
  {
   "cell_type": "code",
   "execution_count": 2,
   "id": "18ae3568",
   "metadata": {},
   "outputs": [],
   "source": [
    "def post_prediction(\n",
    "    model_id: int, \n",
    "    description: str, \n",
    "    commit: str, \n",
    "    predict_date: str, \n",
    "    predict: dict\n",
    "):\n",
    "    url = \"https://api.mosqlimate.org/api/registry/predictions/\"\n",
    "    headers = {\"X-UID-Key\": \"eduardocorrearaujo:b35a9f09-fbd2-4764-9503-d0650e50d7e1\"}\n",
    "    prediction = {\n",
    "        \"model\": model_id,\n",
    "        \"description\": description,\n",
    "        \"commit\": commit,\n",
    "        \"predict_date\": predict_date,\n",
    "        \"prediction\": predict\n",
    "    }\n",
    "    return requests.post(url, json=prediction, headers=headers)"
   ]
  },
  {
   "cell_type": "code",
   "execution_count": 3,
   "id": "3aea6b22",
   "metadata": {},
   "outputs": [],
   "source": [
    "cities = [2704302, 2927408, 2111300, 2211001,\n",
    "            2800308, 2408102, 2304400, 2507507, 2611606]\n",
    "states  = ['AL', 'BA', 'MA', 'PI', 'SE', 'RN', 'CE', 'PB', 'PE'] \n",
    "\n",
    "for c, s in zip(cities, states):\n",
    "\n",
    "    df_preds = pd.read_csv(f'./preds/preds_2023_{geocode}.csv')\n",
    "\n",
    "\n",
    "    model_id = 7\n",
    "    description= f'Forecast de novos casos para o geocode {c} entre 2022-01-01 e 2023-01-01 usando apenas os dados de todos as cidades clusterizadas com {c} como input'\n",
    "    commit ='d2d0a675c051c23dfad604775238cad58bbfe92f' \n",
    "    predict_date = '2023-09-14'\n",
    "    predict = df.to_json(orient = 'records', date_format = 'iso')\n",
    "    \n",
    "    res = post_prediction(\n",
    "    model_id, \n",
    "    description, \n",
    "    commit, \n",
    "    predict_date, \n",
    "    predict\n",
    "    )\n"
   ]
  }
 ],
 "metadata": {
  "kernelspec": {
   "display_name": "Python 3 (ipykernel)",
   "language": "python",
   "name": "python3"
  },
  "language_info": {
   "codemirror_mode": {
    "name": "ipython",
    "version": 3
   },
   "file_extension": ".py",
   "mimetype": "text/x-python",
   "name": "python",
   "nbconvert_exporter": "python",
   "pygments_lexer": "ipython3",
   "version": "3.10.13"
  }
 },
 "nbformat": 4,
 "nbformat_minor": 5
}
